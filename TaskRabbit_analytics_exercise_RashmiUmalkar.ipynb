{
 "cells": [
  {
   "cell_type": "markdown",
   "metadata": {},
   "source": [
    "Name: Rashmi Umalkar   "
   ]
  },
  {
   "cell_type": "markdown",
   "metadata": {},
   "source": [
    "Question 1: Using the data, what factors impact clients choosing/selecting a tasker in the result page ? Feel free to build a predictive model to determine the factors that impact what tasker is being selected.\n"
   ]
  },
  {
   "cell_type": "code",
   "execution_count": 1,
   "metadata": {},
   "outputs": [],
   "source": [
    "import pandas as pd\n",
    "import numpy as np \n",
    "import pandas as pd \n",
    "from sklearn import preprocessing\n",
    "import statsmodels.api as sm\n",
    "from statsmodels.formula.api import logit \n",
    "import matplotlib.pyplot as plt\n",
    "from sklearn import datasets, linear_model\n",
    "from sklearn.model_selection import train_test_split\n",
    "from sklearn.linear_model import LogisticRegression\n",
    "from sklearn.metrics import classification_report, accuracy_score, roc_auc_score\n",
    "from sklearn import preprocessing\n",
    "import matplotlib.pyplot as plt \n",
    "import seaborn as sns\n",
    "\n",
    "#import datetime as dt\n",
    "np.random.seed()"
   ]
  },
  {
   "cell_type": "code",
   "execution_count": 3,
   "metadata": {},
   "outputs": [
    {
     "data": {
      "text/plain": [
       "funnel_search_id       object\n",
       "created_at             object\n",
       "tasker_id               int64\n",
       "position                int64\n",
       "hourly_rate             int64\n",
       "num_completed_tasks     int64\n",
       "hired                   int64\n",
       "category               object\n",
       "dtype: object"
      ]
     },
     "execution_count": 3,
     "metadata": {},
     "output_type": "execute_result"
    }
   ],
   "source": [
    "#Loading the data and looking at snapshot\n",
    "analytics_data = pd.read_csv(\"Analytics_data.csv\")\n",
    "analytics_data.dtypes"
   ]
  },
  {
   "cell_type": "code",
   "execution_count": 5,
   "metadata": {},
   "outputs": [],
   "source": [
    "#Separating hired and not hired \n",
    "analytics_data_hired = analytics_data[analytics_data[\"hired\"]== 1]\n",
    "analytics_data_nothired = analytics_data[analytics_data[\"hired\"]== 0]"
   ]
  },
  {
   "cell_type": "code",
   "execution_count": 6,
   "metadata": {},
   "outputs": [
    {
     "data": {
      "text/plain": [
       "<matplotlib.axes._subplots.AxesSubplot at 0x1a23f98410>"
      ]
     },
     "execution_count": 6,
     "metadata": {},
     "output_type": "execute_result"
    },
    {
     "data": {
      "image/png": "[encoded data removed]",
      "text/plain": [
       "<Figure size 432x288 with 1 Axes>"
      ]
     },
     "metadata": {
      "needs_background": "light"
     },
     "output_type": "display_data"
    }
   ],
   "source": [
    "#Distribution of hired taskers by the position at which they got hired\n",
    "analytics_data_hired.groupby(\"position\")['tasker_id'].count().plot(kind=\"bar\",title = 'Distribution of Hired taskers by position at which they were hired')"
   ]
  },
  {
   "cell_type": "markdown",
   "metadata": {},
   "source": [
    "From the Distribution of hired taskers by position, can conclude that more than 50% (57%) taskers were hired at position 1 and hence positioning matters in a given recommendation set. The rest shows descent, showing higher the position in the recommendation, better are the chances of being hired."
   ]
  },
  {
   "cell_type": "markdown",
   "metadata": {},
   "source": [
    "To understand impact of number of tasks completed on being hired, binning the number of hours completed and analyzing tasker counts in eeach"
   ]
  },
  {
   "cell_type": "code",
   "execution_count": 7,
   "metadata": {},
   "outputs": [
    {
     "data": {
      "text/html": [
       "<div>\n",
       "<style scoped>\n",
       "    .dataframe tbody tr th:only-of-type {\n",
       "        vertical-align: middle;\n",
       "    }\n",
       "\n",
       "    .dataframe tbody tr th {\n",
       "        vertical-align: top;\n",
       "    }\n",
       "\n",
       "    .dataframe thead th {\n",
       "        text-align: right;\n",
       "    }\n",
       "</style>\n",
       "<table border=\"1\" class=\"dataframe\">\n",
       "  <thead>\n",
       "    <tr style=\"text-align: right;\">\n",
       "      <th></th>\n",
       "      <th>funnel_search_id</th>\n",
       "      <th>created_at</th>\n",
       "      <th>tasker_id</th>\n",
       "      <th>position</th>\n",
       "      <th>hourly_rate</th>\n",
       "      <th>num_completed_tasks</th>\n",
       "      <th>completed task group</th>\n",
       "      <th>hired</th>\n",
       "      <th>category</th>\n",
       "    </tr>\n",
       "  </thead>\n",
       "  <tbody>\n",
       "    <tr>\n",
       "      <th>0</th>\n",
       "      <td>0-0-70cf97d7-37af-4834-901c-ce3ad4893b8c</td>\n",
       "      <td>9/1/17 0:32</td>\n",
       "      <td>1009185352</td>\n",
       "      <td>1</td>\n",
       "      <td>38</td>\n",
       "      <td>151</td>\n",
       "      <td>(140.6, 210.9]</td>\n",
       "      <td>0</td>\n",
       "      <td>Furniture Assembly</td>\n",
       "    </tr>\n",
       "    <tr>\n",
       "      <th>1</th>\n",
       "      <td>0-0-70cf97d7-37af-4834-901c-ce3ad4893b8c</td>\n",
       "      <td>9/1/17 0:32</td>\n",
       "      <td>1006892359</td>\n",
       "      <td>2</td>\n",
       "      <td>40</td>\n",
       "      <td>193</td>\n",
       "      <td>(140.6, 210.9]</td>\n",
       "      <td>0</td>\n",
       "      <td>Furniture Assembly</td>\n",
       "    </tr>\n",
       "    <tr>\n",
       "      <th>2</th>\n",
       "      <td>0-0-70cf97d7-37af-4834-901c-ce3ad4893b8c</td>\n",
       "      <td>9/1/17 0:32</td>\n",
       "      <td>1012023956</td>\n",
       "      <td>3</td>\n",
       "      <td>28</td>\n",
       "      <td>0</td>\n",
       "      <td>(-1.406, 70.3]</td>\n",
       "      <td>0</td>\n",
       "      <td>Furniture Assembly</td>\n",
       "    </tr>\n",
       "    <tr>\n",
       "      <th>3</th>\n",
       "      <td>0-0-70cf97d7-37af-4834-901c-ce3ad4893b8c</td>\n",
       "      <td>9/1/17 0:32</td>\n",
       "      <td>1009733517</td>\n",
       "      <td>4</td>\n",
       "      <td>43</td>\n",
       "      <td>303</td>\n",
       "      <td>(281.2, 351.5]</td>\n",
       "      <td>0</td>\n",
       "      <td>Furniture Assembly</td>\n",
       "    </tr>\n",
       "    <tr>\n",
       "      <th>4</th>\n",
       "      <td>0-0-70cf97d7-37af-4834-901c-ce3ad4893b8c</td>\n",
       "      <td>9/1/17 0:32</td>\n",
       "      <td>1013579273</td>\n",
       "      <td>5</td>\n",
       "      <td>29</td>\n",
       "      <td>39</td>\n",
       "      <td>(-1.406, 70.3]</td>\n",
       "      <td>0</td>\n",
       "      <td>Furniture Assembly</td>\n",
       "    </tr>\n",
       "  </tbody>\n",
       "</table>\n",
       "</div>"
      ],
      "text/plain": [
       "                           funnel_search_id   created_at   tasker_id  \\\n",
       "0  0-0-70cf97d7-37af-4834-901c-ce3ad4893b8c  9/1/17 0:32  1009185352   \n",
       "1  0-0-70cf97d7-37af-4834-901c-ce3ad4893b8c  9/1/17 0:32  1006892359   \n",
       "2  0-0-70cf97d7-37af-4834-901c-ce3ad4893b8c  9/1/17 0:32  1012023956   \n",
       "3  0-0-70cf97d7-37af-4834-901c-ce3ad4893b8c  9/1/17 0:32  1009733517   \n",
       "4  0-0-70cf97d7-37af-4834-901c-ce3ad4893b8c  9/1/17 0:32  1013579273   \n",
       "\n",
       "   position  hourly_rate  num_completed_tasks completed task group  hired  \\\n",
       "0         1           38                  151       (140.6, 210.9]      0   \n",
       "1         2           40                  193       (140.6, 210.9]      0   \n",
       "2         3           28                    0       (-1.406, 70.3]      0   \n",
       "3         4           43                  303       (281.2, 351.5]      0   \n",
       "4         5           29                   39       (-1.406, 70.3]      0   \n",
       "\n",
       "             category  \n",
       "0  Furniture Assembly  \n",
       "1  Furniture Assembly  \n",
       "2  Furniture Assembly  \n",
       "3  Furniture Assembly  \n",
       "4  Furniture Assembly  "
      ]
     },
     "execution_count": 7,
     "metadata": {},
     "output_type": "execute_result"
    }
   ],
   "source": [
    "#inserting column with the respective hours completed bin\n",
    "nBins =20\n",
    "completed_task_category = pd.cut(analytics_data.num_completed_tasks,bins=nBins)\n",
    "analytics_data.insert(6,'completed task group',completed_task_category)\n",
    "analytics_data.head()\n",
    "#del analytics_data['completed task group']"
   ]
  },
  {
   "cell_type": "code",
   "execution_count": 8,
   "metadata": {},
   "outputs": [
    {
     "data": {
      "text/plain": [
       "<matplotlib.axes._subplots.AxesSubplot at 0x10efdc0d0>"
      ]
     },
     "execution_count": 8,
     "metadata": {},
     "output_type": "execute_result"
    },
    {
     "data": {
      "image/png": "[encoded data removed]",
      "text/plain": [
       "<Figure size 432x288 with 1 Axes>"
      ]
     },
     "metadata": {
      "needs_background": "light"
     },
     "output_type": "display_data"
    }
   ],
   "source": [
    "#separating hired and not hired after introducing the complted task group column\n",
    "analytics_data_hired = analytics_data[analytics_data[\"hired\"]== 1]\n",
    "analytics_data_nothired = analytics_data[analytics_data[\"hired\"]== 0]\n",
    "#Plotting the Distribution of hired taskers by bins \n",
    "analytics_data_hired.groupby(\"completed task group\")['tasker_id'].count().plot(kind=\"bar\", title = 'Hired taskers by number of completed tasks bins')"
   ]
  },
  {
   "cell_type": "markdown",
   "metadata": {},
   "source": [
    "For hired taskers, the distribution of taskers with prior experience or completed tasks seems to be maximum in group of 0-70. Other bins till 350 show gradual descent. The variable number of tasks completed seems to either not correrelated or negatively related to being hired."
   ]
  },
  {
   "cell_type": "markdown",
   "metadata": {},
   "source": [
    "We know mostly the taskers are hired at position 1 and number of tasks completed seems to have less impact when customers hire for taskers. Assuming the hiring preference would be for lower hourly rates. To Understand impact of hourly rate and number of tasks completed tasks, plotting hourly rate and completed tasks for hired taskers at position 1"
   ]
  },
  {
   "cell_type": "code",
   "execution_count": 9,
   "metadata": {},
   "outputs": [
    {
     "data": {
      "text/plain": [
       "[Text(0.5, 1.0, 'Taskers hired at position 1 - hourly rate and number of tasks completed')]"
      ]
     },
     "execution_count": 9,
     "metadata": {},
     "output_type": "execute_result"
    },
    {
     "data": {
      "image/png": "[encoded data removed]",
      "text/plain": [
       "<Figure size 432x288 with 1 Axes>"
      ]
     },
     "metadata": {
      "needs_background": "light"
     },
     "output_type": "display_data"
    }
   ],
   "source": [
    "analytics_data_hired_positionone = analytics_data_hired[analytics_data_hired[\"position\"] ==1]\n",
    "\n",
    "ax= sns.scatterplot(x=\"hourly_rate\", y=\"num_completed_tasks\",\n",
    "                     size = 'num_completed_tasks',\n",
    "                     data= analytics_data_hired_positionone)\n",
    "ax.set(xlim=(1, 140))\n",
    "ax.set(title = 'Taskers hired at position 1 - hourly rate and number of tasks completed')"
   ]
  },
  {
   "cell_type": "markdown",
   "metadata": {},
   "source": [
    "Seems the sweet spot for hourly rates is between 30 to 50 $ with preference for 0 to 600 tasks completed"
   ]
  },
  {
   "cell_type": "code",
   "execution_count": 10,
   "metadata": {},
   "outputs": [
    {
     "data": {
      "text/plain": [
       "[Text(0.5, 1.0, 'Hired taskers by positions and distribution of number of tasks they have completed')]"
      ]
     },
     "execution_count": 10,
     "metadata": {},
     "output_type": "execute_result"
    },
    {
     "data": {
      "image/png": "[encoded data removed]",
      "text/plain": [
       "<Figure size 432x288 with 1 Axes>"
      ]
     },
     "metadata": {
      "needs_background": "light"
     },
     "output_type": "display_data"
    }
   ],
   "source": [
    "#Understanding median number of tasks completed by the position of tasker in recommendation set \n",
    "ax= sns.boxplot(x='position',y='num_completed_tasks',data=analytics_data_hired,palette='winter')\n",
    "ax.set(title = 'Hired taskers by positions and distribution of number of tasks they have completed')"
   ]
  },
  {
   "cell_type": "markdown",
   "metadata": {},
   "source": [
    "The median number of tasks completed for hired taskers at first five positions seem to be in 150-200. As the position increases(tasker hired when placed further bottom in the recommendation list). We can conclude that when taskers are hired after position 4 or 5, the customers hire them based on number of tasks completed. However the other reason can be lower hourly rates"
   ]
  },
  {
   "cell_type": "code",
   "execution_count": 11,
   "metadata": {},
   "outputs": [],
   "source": [
    "#Adding a column number of taskers per recommendation set \n",
    "analytics_data_taskers_query = analytics_data.groupby('funnel_search_id')['tasker_id'].nunique().rename(\"num_taskers_per_query\")\n",
    "analytics_data = analytics_data.merge(analytics_data_taskers_query,on = 'funnel_search_id')"
   ]
  },
  {
   "cell_type": "markdown",
   "metadata": {},
   "source": [
    "The probability of hired or not is a binary variable. To understand in depth the impact of variables on probability of being hired, Logistic regression can helpful. fitting initial regression model."
   ]
  },
  {
   "cell_type": "code",
   "execution_count": 12,
   "metadata": {},
   "outputs": [],
   "source": [
    "#Splitting the data into training and test sets\n",
    "train, test = train_test_split(analytics_data, test_size=0.3, random_state = 1234)"
   ]
  },
  {
   "cell_type": "code",
   "execution_count": 13,
   "metadata": {},
   "outputs": [
    {
     "name": "stdout",
     "output_type": "stream",
     "text": [
      "Optimization terminated successfully.\n",
      "         Current function value: 0.190598\n",
      "         Iterations 8\n",
      "                           Logit Regression Results                           \n",
      "==============================================================================\n",
      "Dep. Variable:                  hired   No. Observations:                21000\n",
      "Model:                          Logit   Df Residuals:                    20993\n",
      "Method:                           MLE   Df Model:                            6\n",
      "Date:                Mon, 06 Jul 2020   Pseudo R-squ.:                  0.1277\n",
      "Time:                        17:37:01   Log-Likelihood:                -4002.6\n",
      "converged:                       True   LL-Null:                       -4588.5\n",
      "Covariance Type:            nonrobust   LLR p-value:                6.026e-250\n",
      "===========================================================================================\n",
      "                              coef    std err          z      P>|z|      [0.025      0.975]\n",
      "-------------------------------------------------------------------------------------------\n",
      "Intercept                   0.0774      0.231      0.335      0.738      -0.376       0.530\n",
      "category[T.Mounting]        0.0109      0.077      0.142      0.887      -0.140       0.161\n",
      "category[T.Moving Help]     0.1529      0.083      1.833      0.067      -0.011       0.316\n",
      "hourly_rate                -0.0082      0.002     -5.472      0.000      -0.011      -0.005\n",
      "position                   -0.2561      0.010    -26.033      0.000      -0.275      -0.237\n",
      "num_completed_tasks         0.0011      0.000      9.906      0.000       0.001       0.001\n",
      "num_taskers_per_query      -0.0854      0.015     -5.874      0.000      -0.114      -0.057\n",
      "===========================================================================================\n"
     ]
    }
   ],
   "source": [
    "#Fitting basic regression model on training set.\n",
    "#Here our target variable is hired and other independent variables (as observed from earlier exploratory analysis) are \n",
    "#position, hourly rate, number of completed tasks, category, number of taskers per recommendation set\n",
    "model = logit(\"hired ~ hourly_rate + position +category  + num_completed_tasks + num_taskers_per_query\", data=train)\n",
    "result = model.fit()\n",
    "print(result.summary())\n"
   ]
  },
  {
   "cell_type": "markdown",
   "metadata": {},
   "source": [
    "As we see, the initial regression, hourly rate, position, number of completed tasks and number of taskers per query show significant impact with lower pvalues. However category show higher pvalues. so removing category and fitting the model again gives us below summary"
   ]
  },
  {
   "cell_type": "code",
   "execution_count": 14,
   "metadata": {},
   "outputs": [
    {
     "name": "stdout",
     "output_type": "stream",
     "text": [
      "Optimization terminated successfully.\n",
      "         Current function value: 0.190698\n",
      "         Iterations 8\n",
      "                           Logit Regression Results                           \n",
      "==============================================================================\n",
      "Dep. Variable:                  hired   No. Observations:                21000\n",
      "Model:                          Logit   Df Residuals:                    20995\n",
      "Method:                           MLE   Df Model:                            4\n",
      "Date:                Mon, 06 Jul 2020   Pseudo R-squ.:                  0.1272\n",
      "Time:                        17:37:04   Log-Likelihood:                -4004.7\n",
      "converged:                       True   LL-Null:                       -4588.5\n",
      "Covariance Type:            nonrobust   LLR p-value:                1.671e-251\n",
      "=========================================================================================\n",
      "                            coef    std err          z      P>|z|      [0.025      0.975]\n",
      "-----------------------------------------------------------------------------------------\n",
      "Intercept                 0.0172      0.228      0.075      0.940      -0.429       0.463\n",
      "hourly_rate              -0.0070      0.001     -5.215      0.000      -0.010      -0.004\n",
      "position                 -0.2579      0.010    -26.323      0.000      -0.277      -0.239\n",
      "num_completed_tasks       0.0011      0.000      9.764      0.000       0.001       0.001\n",
      "num_taskers_per_query    -0.0811      0.014     -5.643      0.000      -0.109      -0.053\n",
      "=========================================================================================\n"
     ]
    }
   ],
   "source": [
    "#Removing category as variable and running the model again\n",
    "model = logit(\"hired ~ hourly_rate + position  + num_completed_tasks + num_taskers_per_query\", data=train)\n",
    "result = model.fit()\n",
    "print(result.summary())"
   ]
  },
  {
   "cell_type": "markdown",
   "metadata": {},
   "source": [
    "R square is low showing poor model fit. R squared decreased as we removed category so we should be adding category back to the model"
   ]
  },
  {
   "cell_type": "markdown",
   "metadata": {},
   "source": [
    "Hourly rate seems to be negatively correlated, the probability of being hired is higher for lower hourly rates. The position variable (ordinal) also seem to have negative coefficient,  lower the position, higher is the probabily of being hired."
   ]
  },
  {
   "cell_type": "code",
   "execution_count": 15,
   "metadata": {},
   "outputs": [
    {
     "name": "stdout",
     "output_type": "stream",
     "text": [
      "Predicted     0   1\n",
      "Actual             \n",
      "0          8462  29\n",
      "1           487  22\n"
     ]
    }
   ],
   "source": [
    "#fitting the data on test set to predict the probability of being hired for test data\n",
    "from sklearn.metrics import classification_report, accuracy_score, roc_auc_score\n",
    "# Compute prediction\n",
    "prediction = result.predict(exog = test)\n",
    "\n",
    "\n",
    "\n",
    "# Define the cutoff\n",
    "cutoff = 0.3\n",
    "\n",
    "# Compute class predictions: y_prediction\n",
    "y_prediction = np.where(prediction > cutoff, 1, 0)\n",
    "\n",
    "# Assign actual class labels from the test sample to y_actual\n",
    "y_actual = test[\"hired\"]\n",
    "\n",
    "\n",
    "# Compute and print confusion matrix using crosstab function\n",
    "conf_matrix = pd.crosstab(y_actual, y_prediction,\n",
    "                       rownames = [\"Actual\"], \n",
    "                       colnames = [\"Predicted\"])\n",
    "#, \n",
    "                     #  margins = True)\n",
    "                      \n",
    "# Print the confusion matrix\n",
    "print(conf_matrix)"
   ]
  },
  {
   "cell_type": "markdown",
   "metadata": {},
   "source": [
    "The confusion matrix show very less 1's predicted. Also FP's are higher than correctly predicting 1's"
   ]
  },
  {
   "cell_type": "code",
   "execution_count": 16,
   "metadata": {},
   "outputs": [
    {
     "name": "stdout",
     "output_type": "stream",
     "text": [
      "Accuracy: 0.94%\n"
     ]
    }
   ],
   "source": [
    "#Checking model accuracy\n",
    "accuracy = accuracy_score(y_actual, y_prediction)\n",
    "print('Accuracy: %.2f' % accuracy + \"%\")"
   ]
  },
  {
   "cell_type": "code",
   "execution_count": 17,
   "metadata": {},
   "outputs": [
    {
     "name": "stdout",
     "output_type": "stream",
     "text": [
      "              precision    recall  f1-score   support\n",
      "\n",
      "           0       0.95      1.00      0.97      8491\n",
      "           1       0.43      0.04      0.08       509\n",
      "\n",
      "    accuracy                           0.94      9000\n",
      "   macro avg       0.69      0.52      0.52      9000\n",
      "weighted avg       0.92      0.94      0.92      9000\n",
      "\n"
     ]
    }
   ],
   "source": [
    "print(classification_report(y_actual, y_prediction))"
   ]
  },
  {
   "cell_type": "code",
   "execution_count": 18,
   "metadata": {},
   "outputs": [
    {
     "name": "stdout",
     "output_type": "stream",
     "text": [
      "AUC: 0.52%\n"
     ]
    }
   ],
   "source": [
    "#checking AUC\n",
    "roc_auc = roc_auc_score(y_actual, y_prediction)\n",
    "print('AUC: %.2f' % roc_auc + \"%\")"
   ]
  },
  {
   "cell_type": "markdown",
   "metadata": {},
   "source": [
    "model shows higher accuracy of 94%, poor R squared and poor AUC of 52%\n",
    "The model needs improvement, checking for hire probability "
   ]
  },
  {
   "cell_type": "code",
   "execution_count": 19,
   "metadata": {},
   "outputs": [
    {
     "data": {
      "text/plain": [
       "<matplotlib.axes._subplots.AxesSubplot at 0x1a257c0790>"
      ]
     },
     "execution_count": 19,
     "metadata": {},
     "output_type": "execute_result"
    },
    {
     "data": {
      "image/png": "[encoded data removed]",
      "text/plain": [
       "<Figure size 432x288 with 1 Axes>"
      ]
     },
     "metadata": {
      "needs_background": "light"
     },
     "output_type": "display_data"
    }
   ],
   "source": [
    "#TO understand the class distribution\n",
    "sns.countplot(x='hired',data=analytics_data)"
   ]
  },
  {
   "cell_type": "markdown",
   "metadata": {},
   "source": [
    "The countplot shows very less 1's compared to 0's as hired probability. This can be a case of class imbalance problem. It can be resolved either by oversampling minority class or by SMOTE"
   ]
  },
  {
   "cell_type": "markdown",
   "metadata": {},
   "source": [
    "USING OVERSAMPLING MINORITY"
   ]
  },
  {
   "cell_type": "code",
   "execution_count": 20,
   "metadata": {},
   "outputs": [],
   "source": [
    "feature_cols = ['position', 'hourly_rate', 'num_completed_tasks','category',  'num_taskers_per_query']\n",
    "X = analytics_data[feature_cols] # Features\n",
    "y = analytics_data.hired # Target variable"
   ]
  },
  {
   "cell_type": "code",
   "execution_count": 21,
   "metadata": {},
   "outputs": [],
   "source": [
    "X_train, X_test, y_train, y_test = train_test_split(X, y, test_size=0.40, random_state=27)"
   ]
  },
  {
   "cell_type": "code",
   "execution_count": 22,
   "metadata": {},
   "outputs": [],
   "source": [
    "X_concat = pd.concat([X_train, y_train], axis=1)\n",
    "not_hired = X_concat[X_concat.hired==0]\n",
    "hired_c = X_concat[X_concat.hired==1]"
   ]
  },
  {
   "cell_type": "code",
   "execution_count": 23,
   "metadata": {},
   "outputs": [],
   "source": [
    "from sklearn.utils import resample\n",
    "# upsample minority\n",
    "hired_upsampled = resample(hired_c,\n",
    "                          replace=True, # sample with replacement\n",
    "                          n_samples=len(not_hired), # match number in majority class\n",
    "                          random_state=27) # reproducible results"
   ]
  },
  {
   "cell_type": "code",
   "execution_count": 24,
   "metadata": {},
   "outputs": [
    {
     "data": {
      "text/plain": [
       "1    16960\n",
       "0    16960\n",
       "Name: hired, dtype: int64"
      ]
     },
     "execution_count": 24,
     "metadata": {},
     "output_type": "execute_result"
    }
   ],
   "source": [
    "upsampled = pd.concat([not_hired, hired_upsampled])\n",
    "upsampled.hired.value_counts()"
   ]
  },
  {
   "cell_type": "markdown",
   "metadata": {},
   "source": [
    "Now we have similar number of samples for 1's and 0's which can improve the model"
   ]
  },
  {
   "cell_type": "code",
   "execution_count": 25,
   "metadata": {},
   "outputs": [
    {
     "data": {
      "text/html": [
       "<div>\n",
       "<style scoped>\n",
       "    .dataframe tbody tr th:only-of-type {\n",
       "        vertical-align: middle;\n",
       "    }\n",
       "\n",
       "    .dataframe tbody tr th {\n",
       "        vertical-align: top;\n",
       "    }\n",
       "\n",
       "    .dataframe thead th {\n",
       "        text-align: right;\n",
       "    }\n",
       "</style>\n",
       "<table border=\"1\" class=\"dataframe\">\n",
       "  <thead>\n",
       "    <tr style=\"text-align: right;\">\n",
       "      <th></th>\n",
       "      <th>position</th>\n",
       "      <th>hourly_rate</th>\n",
       "      <th>num_completed_tasks</th>\n",
       "      <th>category</th>\n",
       "      <th>num_taskers_per_query</th>\n",
       "      <th>hired</th>\n",
       "    </tr>\n",
       "  </thead>\n",
       "  <tbody>\n",
       "    <tr>\n",
       "      <th>2191</th>\n",
       "      <td>3</td>\n",
       "      <td>95</td>\n",
       "      <td>625</td>\n",
       "      <td>Moving Help</td>\n",
       "      <td>15</td>\n",
       "      <td>0</td>\n",
       "    </tr>\n",
       "    <tr>\n",
       "      <th>5385</th>\n",
       "      <td>4</td>\n",
       "      <td>55</td>\n",
       "      <td>246</td>\n",
       "      <td>Mounting</td>\n",
       "      <td>15</td>\n",
       "      <td>0</td>\n",
       "    </tr>\n",
       "    <tr>\n",
       "      <th>29865</th>\n",
       "      <td>14</td>\n",
       "      <td>35</td>\n",
       "      <td>1</td>\n",
       "      <td>Furniture Assembly</td>\n",
       "      <td>15</td>\n",
       "      <td>0</td>\n",
       "    </tr>\n",
       "    <tr>\n",
       "      <th>16138</th>\n",
       "      <td>10</td>\n",
       "      <td>50</td>\n",
       "      <td>101</td>\n",
       "      <td>Mounting</td>\n",
       "      <td>15</td>\n",
       "      <td>0</td>\n",
       "    </tr>\n",
       "    <tr>\n",
       "      <th>28386</th>\n",
       "      <td>15</td>\n",
       "      <td>36</td>\n",
       "      <td>0</td>\n",
       "      <td>Mounting</td>\n",
       "      <td>15</td>\n",
       "      <td>0</td>\n",
       "    </tr>\n",
       "  </tbody>\n",
       "</table>\n",
       "</div>"
      ],
      "text/plain": [
       "       position  hourly_rate  num_completed_tasks            category  \\\n",
       "2191          3           95                  625         Moving Help   \n",
       "5385          4           55                  246            Mounting   \n",
       "29865        14           35                    1  Furniture Assembly   \n",
       "16138        10           50                  101            Mounting   \n",
       "28386        15           36                    0            Mounting   \n",
       "\n",
       "       num_taskers_per_query  hired  \n",
       "2191                      15      0  \n",
       "5385                      15      0  \n",
       "29865                     15      0  \n",
       "16138                     15      0  \n",
       "28386                     15      0  "
      ]
     },
     "execution_count": 25,
     "metadata": {},
     "output_type": "execute_result"
    }
   ],
   "source": [
    "y_train_upsampled = upsampled.hired\n",
    "X_train_upsampled = upsampled.drop('hired', axis=1)\n",
    "upsampled.head()"
   ]
  },
  {
   "cell_type": "code",
   "execution_count": 26,
   "metadata": {},
   "outputs": [
    {
     "name": "stdout",
     "output_type": "stream",
     "text": [
      "Optimization terminated successfully.\n",
      "         Current function value: 0.570811\n",
      "         Iterations 6\n",
      "                           Logit Regression Results                           \n",
      "==============================================================================\n",
      "Dep. Variable:                  hired   No. Observations:                33920\n",
      "Model:                          Logit   Df Residuals:                    33913\n",
      "Method:                           MLE   Df Model:                            6\n",
      "Date:                Mon, 06 Jul 2020   Pseudo R-squ.:                  0.1765\n",
      "Time:                        17:37:20   Log-Likelihood:                -19362.\n",
      "converged:                       True   LL-Null:                       -23512.\n",
      "Covariance Type:            nonrobust   LLR p-value:                     0.000\n",
      "===========================================================================================\n",
      "                              coef    std err          z      P>|z|      [0.025      0.975]\n",
      "-------------------------------------------------------------------------------------------\n",
      "Intercept                   2.4566      0.110     22.382      0.000       2.242       2.672\n",
      "category[T.Mounting]        0.1855      0.031      6.025      0.000       0.125       0.246\n",
      "category[T.Moving Help]     0.3478      0.034     10.101      0.000       0.280       0.415\n",
      "hourly_rate                -0.0102      0.001    -17.923      0.000      -0.011      -0.009\n",
      "position                   -0.2262      0.003    -70.045      0.000      -0.233      -0.220\n",
      "num_completed_tasks         0.0014   4.73e-05     29.287      0.000       0.001       0.001\n",
      "num_taskers_per_query      -0.0742      0.007    -10.404      0.000      -0.088      -0.060\n",
      "===========================================================================================\n"
     ]
    }
   ],
   "source": [
    "model2 = logit(\"hired ~ hourly_rate + position +category + num_completed_tasks + num_taskers_per_query\", data=upsampled)\n",
    "result2 = model2.fit()\n",
    "print(result2.summary())"
   ]
  },
  {
   "cell_type": "raw",
   "metadata": {},
   "source": [
    "R squared improved but still it is 17.65%.Further measures can be takes to improve the model"
   ]
  },
  {
   "cell_type": "raw",
   "metadata": {},
   "source": [
    "The coefficients are similar to earlier model. CI do not have 0 values so all the variables are either positively or negatively impacting. We see that number of completed tasks have lowest std error but very low coefficients. The most impactful variables are hourly rate, position,number of taskers per query and category"
   ]
  },
  {
   "cell_type": "markdown",
   "metadata": {},
   "source": []
  },
  {
   "cell_type": "raw",
   "metadata": {},
   "source": [
    "----------------------------------------------------------------------------------------------------------------------\n",
    "Question 2: Modeling Retention:\n",
    "TaskRabbit is very focused on increasing customer retention. More specifically, we want customers to repeat with TaskRabbit, booking more than once or more. Assuming that you have access to all the data you need; how would you approach customer retention with Analytics or Data Science? Another words, How would you set up your training data to model retention ? What types of features would you use in your approach? "
   ]
  },
  {
   "cell_type": "markdown",
   "metadata": {},
   "source": []
  },
  {
   "cell_type": "raw",
   "metadata": {},
   "source": [
    "If I have access to all the data, I would approach 28 day retention(booking more than once) considering below data points\n",
    "For each customer, to determine retention, we can look into per customer\n",
    "1)Avg rating for booked taskers \n",
    "2)Number of categories customers have booked \n",
    "3)website visits/app opens per 28 day period\n",
    "4)number of tasks completed by hired taskers\n",
    "5)avg hourly rate of taskers booked before\n"
   ]
  },
  {
   "cell_type": "raw",
   "metadata": {},
   "source": [
    "The model would predict retention probability as whether customer retained or not (0/1 binary) based on above dependent variables.\n",
    "Among the dependent variables, all the data is customer specific. \n",
    "if we have access then customer order data from IKEA to map into how many times they buy from IKEA vs how many times tasker is booked through TaskRabbit\n"
   ]
  },
  {
   "cell_type": "markdown",
   "metadata": {},
   "source": []
  },
  {
   "cell_type": "markdown",
   "metadata": {},
   "source": []
  },
  {
   "cell_type": "raw",
   "metadata": {},
   "source": [
    "----------------------------------------------------------------------------------------------------------------------\n",
    "Question 3: 12 Month retention\n",
    "Independent of question 2 above, lets say that TaskRabbit is interested in the long term ( > 12months) customer retention . \n",
    "Let's say that we made a chance to our product adding new features and functionalities. We expect those new changes to increase customer retention, specifically in this case, 12month retention. How can we test if the change is successful?\n",
    "For question 2 and 3, please outline your approach in a few paragraph. Feel free to create slides if that's what you prefer ( slides are not required. A few paragraph would be enough).\n"
   ]
  },
  {
   "cell_type": "markdown",
   "metadata": {},
   "source": []
  },
  {
   "cell_type": "raw",
   "metadata": {},
   "source": [
    "\n",
    "A new feature or functionality to the product can be adding an image or video of the job done. For e.g - if a tasker assembles an Ikea bed then picture of final assembled product with time required to do it.\n",
    "That would help customers understand which the time taken for specific type of work and help gauge the degree of skills better."
   ]
  },
  {
   "cell_type": "raw",
   "metadata": {},
   "source": [
    "The Hypothesis would be adding an image after the job done helps generate more bookings or helps the tasker in getting hired, that is there is significant lift in probability of getting hired. We can set up an experiment or ab test to analyze if we see any positive impact in hiring.\n",
    "In this case my control group would be users visiting tasker profile without an image/photo of product assembled and Treatment would be users visiting tasker profile with a picture of a job done in the same category. The target metric to look at would be avg bookings per tasker.\n",
    "The null hypothesis is that adding image or video wont have any impact on avg booking per customer\n",
    "The alternate or test hypothesis would be there will be change in avg bookers per customer and accordingly can set significance level and analyze test results and check for statistically significant impact on avg bookings per customer by one sided t-test "
   ]
  },
  {
   "cell_type": "raw",
   "metadata": {},
   "source": []
  },
  {
   "cell_type": "raw",
   "metadata": {},
   "source": [
    "\n",
    "\n",
    "Another feature that comes to mind is, be along with written feedback, if we provide tags in the feedback too which can appear below tasker's headshot in green color e.g- tags like reliable, punctual, friendly/communicative etc. That would be easy for customer to give feedback and also for other customers while booking \n"
   ]
  },
  {
   "cell_type": "raw",
   "metadata": {},
   "source": [
    "The control group can be users who have the existing experience, the treatment can be users who see the text and the taggs as feedback and tags available to user while giving feedback too. The idea is taggs in feedback will ease the process of giving feedback and also would be strong call to action for customers while booking for taskers hence increase in bookings and a decrease in booking time required.\n",
    "The null Hypothesis (H0) would be that tagged feedback wont create a significant impact on avg booking per customer or time spent on booking\n",
    "The alternate Hypothesis (Ha) would be that, feedback tags would create a significant impact on avg booking per customer or time spent on booking. We set the test and while analyzing results look for impact on avg booking per customer for control vs treatment groups. We can set significance level and test if the observed test statistic was due to random effects or test did have statistically significant impact on avg booker per customer."
   ]
  },
  {
   "cell_type": "markdown",
   "metadata": {},
   "source": []
  }
 ],
 "metadata": {
  "kernelspec": {
   "display_name": "Python 3 (ipykernel)",
   "language": "python",
   "name": "python3"
  },
  "language_info": {
   "codemirror_mode": {
    "name": "ipython",
    "version": 3
   },
   "file_extension": ".py",
   "mimetype": "text/x-python",
   "name": "python",
   "nbconvert_exporter": "python",
   "pygments_lexer": "ipython3",
   "version": "3.10.5"
  }
 },
 "nbformat": 4,
 "nbformat_minor": 4
}
